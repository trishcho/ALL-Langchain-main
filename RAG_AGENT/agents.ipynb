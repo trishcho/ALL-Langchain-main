{
 "cells": [
  {
   "cell_type": "code",
   "execution_count": 34,
   "metadata": {},
   "outputs": [
    {
     "name": "stdout",
     "output_type": "stream",
     "text": [
      "Requirement already satisfied: arxiv in /Users/trishulchowdhury/Documents/GitHub/ALL-Langchain-main/venv/lib/python3.10/site-packages (2.1.3)\n",
      "Requirement already satisfied: feedparser~=6.0.10 in /Users/trishulchowdhury/Documents/GitHub/ALL-Langchain-main/venv/lib/python3.10/site-packages (from arxiv) (6.0.11)\n",
      "Requirement already satisfied: requests~=2.32.0 in /Users/trishulchowdhury/Documents/GitHub/ALL-Langchain-main/venv/lib/python3.10/site-packages (from arxiv) (2.32.3)\n",
      "Requirement already satisfied: sgmllib3k in /Users/trishulchowdhury/Documents/GitHub/ALL-Langchain-main/venv/lib/python3.10/site-packages (from feedparser~=6.0.10->arxiv) (1.0.0)\n",
      "Requirement already satisfied: charset-normalizer<4,>=2 in /Users/trishulchowdhury/Documents/GitHub/ALL-Langchain-main/venv/lib/python3.10/site-packages (from requests~=2.32.0->arxiv) (3.3.2)\n",
      "Requirement already satisfied: idna<4,>=2.5 in /Users/trishulchowdhury/Documents/GitHub/ALL-Langchain-main/venv/lib/python3.10/site-packages (from requests~=2.32.0->arxiv) (3.8)\n",
      "Requirement already satisfied: urllib3<3,>=1.21.1 in /Users/trishulchowdhury/Documents/GitHub/ALL-Langchain-main/venv/lib/python3.10/site-packages (from requests~=2.32.0->arxiv) (2.2.2)\n",
      "Requirement already satisfied: certifi>=2017.4.17 in /Users/trishulchowdhury/Documents/GitHub/ALL-Langchain-main/venv/lib/python3.10/site-packages (from requests~=2.32.0->arxiv) (2024.7.4)\n",
      "\n",
      "\u001b[1m[\u001b[0m\u001b[34;49mnotice\u001b[0m\u001b[1;39;49m]\u001b[0m\u001b[39;49m A new release of pip is available: \u001b[0m\u001b[31;49m24.1.2\u001b[0m\u001b[39;49m -> \u001b[0m\u001b[32;49m24.2\u001b[0m\n",
      "\u001b[1m[\u001b[0m\u001b[34;49mnotice\u001b[0m\u001b[1;39;49m]\u001b[0m\u001b[39;49m To update, run: \u001b[0m\u001b[32;49mpip install --upgrade pip\u001b[0m\n"
     ]
    }
   ],
   "source": [
    "!pip install arxiv"
   ]
  },
  {
   "cell_type": "markdown",
   "metadata": {},
   "source": [
    "# Langchain TOOL"
   ]
  },
  {
   "cell_type": "code",
   "execution_count": 35,
   "metadata": {},
   "outputs": [],
   "source": [
    "from langchain_community.tools import WikipediaQueryRun\n",
    "from langchain_community.utilities import WikipediaAPIWrapper"
   ]
  },
  {
   "cell_type": "code",
   "execution_count": 36,
   "metadata": {},
   "outputs": [],
   "source": [
    "api_wrapper=WikipediaAPIWrapper(top_k_results=1,doc_content_chars_max=200)\n",
    "wiki=WikipediaQueryRun(api_wrapper=api_wrapper)"
   ]
  },
  {
   "cell_type": "code",
   "execution_count": 37,
   "metadata": {},
   "outputs": [
    {
     "data": {
      "text/plain": [
       "'wikipedia'"
      ]
     },
     "execution_count": 37,
     "metadata": {},
     "output_type": "execute_result"
    }
   ],
   "source": [
    "wiki.name"
   ]
  },
  {
   "cell_type": "markdown",
   "metadata": {},
   "source": [
    "# BUild Custom TOOL"
   ]
  },
  {
   "cell_type": "code",
   "execution_count": 38,
   "metadata": {},
   "outputs": [
    {
     "data": {
      "text/plain": [
       "VectorStoreRetriever(tags=['FAISS', 'OpenAIEmbeddings'], vectorstore=<langchain_community.vectorstores.faiss.FAISS object at 0x13dc3beb0>)"
      ]
     },
     "execution_count": 38,
     "metadata": {},
     "output_type": "execute_result"
    }
   ],
   "source": [
    "from langchain_community.document_loaders import WebBaseLoader\n",
    "from langchain_community.vectorstores import FAISS\n",
    "from langchain_openai import OpenAIEmbeddings\n",
    "from langchain_text_splitters import RecursiveCharacterTextSplitter\n",
    "\n",
    "#loader=WebBaseLoader(\"https://docs.smith.langchain.com/\")\n",
    "loader=WebBaseLoader(\"https://docs.smith.langchain.com/pricing\")\n",
    "\n",
    "docs=loader.load()\n",
    "documents=RecursiveCharacterTextSplitter(chunk_size=1000,chunk_overlap=200).split_documents(docs)\n",
    "vectordb=FAISS.from_documents(documents,OpenAIEmbeddings())\n",
    "retriever=vectordb.as_retriever()\n",
    "retriever\n"
   ]
  },
  {
   "cell_type": "code",
   "execution_count": 39,
   "metadata": {},
   "outputs": [],
   "source": [
    "from langchain.tools.retriever import create_retriever_tool\n",
    "retriever_tool=create_retriever_tool(retriever,\"langsmith_search\",\n",
    "                      \"Search for information about LangSmith. For any questions about LangSmith, you must use this tool!\")"
   ]
  },
  {
   "cell_type": "code",
   "execution_count": 55,
   "metadata": {},
   "outputs": [
    {
     "data": {
      "text/plain": [
       "'langsmith_search'"
      ]
     },
     "execution_count": 55,
     "metadata": {},
     "output_type": "execute_result"
    }
   ],
   "source": [
    "retriever_tool.name"
   ]
  },
  {
   "cell_type": "markdown",
   "metadata": {},
   "source": [
    "# Langchain TOOL"
   ]
  },
  {
   "cell_type": "code",
   "execution_count": 41,
   "metadata": {},
   "outputs": [
    {
     "data": {
      "text/plain": [
       "'arxiv'"
      ]
     },
     "execution_count": 41,
     "metadata": {},
     "output_type": "execute_result"
    }
   ],
   "source": [
    "## Arxiv Tool\n",
    "from langchain_community.utilities import ArxivAPIWrapper\n",
    "from langchain_community.tools import ArxivQueryRun\n",
    "\n",
    "arxiv_wrapper=ArxivAPIWrapper(top_k_results=1, doc_content_chars_max=200)\n",
    "arxiv=ArxivQueryRun(api_wrapper=arxiv_wrapper)\n",
    "arxiv.name"
   ]
  },
  {
   "cell_type": "code",
   "execution_count": 53,
   "metadata": {},
   "outputs": [],
   "source": [
    "tools=[wiki,arxiv,retriever_tool]"
   ]
  },
  {
   "cell_type": "code",
   "execution_count": 54,
   "metadata": {},
   "outputs": [
    {
     "data": {
      "text/plain": [
       "[WikipediaQueryRun(api_wrapper=WikipediaAPIWrapper(wiki_client=<module 'wikipedia' from '/Users/trishulchowdhury/Documents/GitHub/ALL-Langchain-main/venv/lib/python3.10/site-packages/wikipedia/__init__.py'>, top_k_results=1, lang='en', load_all_available_meta=False, doc_content_chars_max=200)),\n",
       " ArxivQueryRun(api_wrapper=ArxivAPIWrapper(arxiv_search=<class 'arxiv.Search'>, arxiv_exceptions=(<class 'arxiv.ArxivError'>, <class 'arxiv.UnexpectedEmptyPageError'>, <class 'arxiv.HTTPError'>), top_k_results=1, ARXIV_MAX_QUERY_LENGTH=300, continue_on_failure=False, load_max_docs=100, load_all_available_meta=False, doc_content_chars_max=200, arxiv_result=<class 'arxiv.Result'>)),\n",
       " Tool(name='langsmith_search', description='Search for information about LangSmith. For any questions about LangSmith, you must use this tool!', args_schema=<class 'langchain_core.tools.retriever.RetrieverInput'>, func=functools.partial(<function _get_relevant_documents at 0x10aa1fbe0>, retriever=VectorStoreRetriever(tags=['FAISS', 'OpenAIEmbeddings'], vectorstore=<langchain_community.vectorstores.faiss.FAISS object at 0x13dc3beb0>), document_prompt=PromptTemplate(input_variables=['page_content'], template='{page_content}'), document_separator='\\n\\n'), coroutine=functools.partial(<function _aget_relevant_documents at 0x10aa1fd00>, retriever=VectorStoreRetriever(tags=['FAISS', 'OpenAIEmbeddings'], vectorstore=<langchain_community.vectorstores.faiss.FAISS object at 0x13dc3beb0>), document_prompt=PromptTemplate(input_variables=['page_content'], template='{page_content}'), document_separator='\\n\\n'))]"
      ]
     },
     "execution_count": 54,
     "metadata": {},
     "output_type": "execute_result"
    }
   ],
   "source": [
    "tools"
   ]
  },
  {
   "cell_type": "code",
   "execution_count": 44,
   "metadata": {},
   "outputs": [],
   "source": [
    "from dotenv import load_dotenv\n",
    "\n",
    "load_dotenv()\n",
    "import os\n",
    "os.environ['OPENAI_API_KEY']=os.getenv(\"OPENAI_API_KEY\")\n",
    "from langchain_openai import ChatOpenAI\n",
    "\n",
    "llm = ChatOpenAI(model=\"gpt-3.5-turbo-0125\", temperature=0)"
   ]
  },
  {
   "cell_type": "markdown",
   "metadata": {},
   "source": [
    "## Agents\n",
    "\n",
    "The core idea of agents is to use a language model to choose a sequence of actions to take. In chains, a sequence of actions is hardcoded (in code). In agents, a language model is used as a reasoning engine to determine which actions to take and in which order."
   ]
  },
  {
   "cell_type": "markdown",
   "metadata": {},
   "source": [
    "#### This is basically the hub of Prompts \n",
    "\n",
    "###### You can change the Prompt"
   ]
  },
  {
   "cell_type": "code",
   "execution_count": 56,
   "metadata": {},
   "outputs": [
    {
     "data": {
      "text/plain": [
       "[SystemMessagePromptTemplate(prompt=PromptTemplate(input_variables=[], template='You are a helpful assistant')),\n",
       " MessagesPlaceholder(variable_name='chat_history', optional=True),\n",
       " HumanMessagePromptTemplate(prompt=PromptTemplate(input_variables=['input'], template='{input}')),\n",
       " MessagesPlaceholder(variable_name='agent_scratchpad')]"
      ]
     },
     "execution_count": 56,
     "metadata": {},
     "output_type": "execute_result"
    }
   ],
   "source": [
    "from langchain import hub\n",
    "# Get the prompt to use - you can modify this!\n",
    "prompt = hub.pull(\"hwchase17/openai-functions-agent\")\n",
    "prompt.messages"
   ]
  },
  {
   "cell_type": "code",
   "execution_count": 46,
   "metadata": {},
   "outputs": [],
   "source": [
    "### Agents\n",
    "from langchain.agents import create_openai_tools_agent\n",
    "agent=create_openai_tools_agent(llm,tools,prompt)"
   ]
  },
  {
   "cell_type": "code",
   "execution_count": 47,
   "metadata": {},
   "outputs": [
    {
     "data": {
      "text/plain": [
       "AgentExecutor(verbose=True, agent=RunnableMultiActionAgent(runnable=RunnableAssign(mapper={\n",
       "  agent_scratchpad: RunnableLambda(lambda x: format_to_openai_tool_messages(x['intermediate_steps']))\n",
       "})\n",
       "| ChatPromptTemplate(input_variables=['agent_scratchpad', 'input'], optional_variables=['chat_history'], input_types={'chat_history': typing.List[typing.Union[langchain_core.messages.ai.AIMessage, langchain_core.messages.human.HumanMessage, langchain_core.messages.chat.ChatMessage, langchain_core.messages.system.SystemMessage, langchain_core.messages.function.FunctionMessage, langchain_core.messages.tool.ToolMessage]], 'agent_scratchpad': typing.List[typing.Union[langchain_core.messages.ai.AIMessage, langchain_core.messages.human.HumanMessage, langchain_core.messages.chat.ChatMessage, langchain_core.messages.system.SystemMessage, langchain_core.messages.function.FunctionMessage, langchain_core.messages.tool.ToolMessage]]}, partial_variables={'chat_history': []}, metadata={'lc_hub_owner': 'hwchase17', 'lc_hub_repo': 'openai-functions-agent', 'lc_hub_commit_hash': 'a1655024b06afbd95d17449f21316291e0726f13dcfaf990cc0d18087ad689a5'}, messages=[SystemMessagePromptTemplate(prompt=PromptTemplate(input_variables=[], template='You are a helpful assistant')), MessagesPlaceholder(variable_name='chat_history', optional=True), HumanMessagePromptTemplate(prompt=PromptTemplate(input_variables=['input'], template='{input}')), MessagesPlaceholder(variable_name='agent_scratchpad')])\n",
       "| RunnableBinding(bound=ChatOpenAI(client=<openai.resources.chat.completions.Completions object at 0x13d602620>, async_client=<openai.resources.chat.completions.AsyncCompletions object at 0x13d600460>, root_client=<openai.OpenAI object at 0x13dc39ae0>, root_async_client=<openai.AsyncOpenAI object at 0x13d602500>, model_name='gpt-3.5-turbo-0125', temperature=0.0, openai_api_key=SecretStr('**********'), openai_proxy=''), kwargs={'tools': [{'type': 'function', 'function': {'name': 'wikipedia', 'description': 'A wrapper around Wikipedia. Useful for when you need to answer general questions about people, places, companies, facts, historical events, or other subjects. Input should be a search query.', 'parameters': {'type': 'object', 'properties': {'query': {'type': 'string'}}, 'required': ['query']}}}, {'type': 'function', 'function': {'name': 'arxiv', 'description': 'A wrapper around Arxiv.org Useful for when you need to answer questions about Physics, Mathematics, Computer Science, Quantitative Biology, Quantitative Finance, Statistics, Electrical Engineering, and Economics from scientific articles on arxiv.org. Input should be a search query.', 'parameters': {'type': 'object', 'properties': {'query': {'description': 'search query to look up', 'type': 'string'}}, 'required': ['query']}}}, {'type': 'function', 'function': {'name': 'langsmith_search', 'description': 'Search for information about LangSmith. For any questions about LangSmith, you must use this tool!', 'parameters': {'type': 'object', 'properties': {'query': {'description': 'query to look up in retriever', 'type': 'string'}}, 'required': ['query']}}}]})\n",
       "| OpenAIToolsAgentOutputParser(), input_keys_arg=[], return_keys_arg=[], stream_runnable=True), tools=[WikipediaQueryRun(api_wrapper=WikipediaAPIWrapper(wiki_client=<module 'wikipedia' from '/Users/trishulchowdhury/Documents/GitHub/ALL-Langchain-main/venv/lib/python3.10/site-packages/wikipedia/__init__.py'>, top_k_results=1, lang='en', load_all_available_meta=False, doc_content_chars_max=200)), ArxivQueryRun(api_wrapper=ArxivAPIWrapper(arxiv_search=<class 'arxiv.Search'>, arxiv_exceptions=(<class 'arxiv.ArxivError'>, <class 'arxiv.UnexpectedEmptyPageError'>, <class 'arxiv.HTTPError'>), top_k_results=1, ARXIV_MAX_QUERY_LENGTH=300, continue_on_failure=False, load_max_docs=100, load_all_available_meta=False, doc_content_chars_max=200, arxiv_result=<class 'arxiv.Result'>)), Tool(name='langsmith_search', description='Search for information about LangSmith. For any questions about LangSmith, you must use this tool!', args_schema=<class 'langchain_core.tools.retriever.RetrieverInput'>, func=functools.partial(<function _get_relevant_documents at 0x10aa1fbe0>, retriever=VectorStoreRetriever(tags=['FAISS', 'OpenAIEmbeddings'], vectorstore=<langchain_community.vectorstores.faiss.FAISS object at 0x13dc3beb0>), document_prompt=PromptTemplate(input_variables=['page_content'], template='{page_content}'), document_separator='\\n\\n'), coroutine=functools.partial(<function _aget_relevant_documents at 0x10aa1fd00>, retriever=VectorStoreRetriever(tags=['FAISS', 'OpenAIEmbeddings'], vectorstore=<langchain_community.vectorstores.faiss.FAISS object at 0x13dc3beb0>), document_prompt=PromptTemplate(input_variables=['page_content'], template='{page_content}'), document_separator='\\n\\n'))])"
      ]
     },
     "execution_count": 47,
     "metadata": {},
     "output_type": "execute_result"
    }
   ],
   "source": [
    "## Agent Executer\n",
    "from langchain.agents import AgentExecutor\n",
    "agent_executor=AgentExecutor(agent=agent,tools=tools,verbose=True)\n",
    "agent_executor"
   ]
  },
  {
   "cell_type": "code",
   "execution_count": 62,
   "metadata": {},
   "outputs": [
    {
     "name": "stdout",
     "output_type": "stream",
     "text": [
      "\n",
      "\n",
      "\u001b[1m> Entering new AgentExecutor chain...\u001b[0m\n",
      "\u001b[32;1m\u001b[1;3m\n",
      "Invoking: `langsmith_search` with `{'query': 'Langsmith'}`\n",
      "\n",
      "\n",
      "\u001b[0m\u001b[38;5;200m\u001b[1;3mPricing | 🦜️🛠️ LangSmith\n",
      "\n",
      "available on Discord.On the Plus plan, you will also receive preferential, email support at support@langchain.dev for LangSmith-related questions only and we'll do our best to respond within the next business day.On the Enterprise plan, you’ll get white-glove support with a Slack channel, a dedicated customer success manager, and monthly check-ins to go over LangSmith and LangChain questions. We can help with anything from debugging, agent and RAG techniques, evaluation approaches, and cognitive architecture reviews. If you purchase the add-on to run LangSmith in your environment, we’ll also support deployments and new releases with our infra engineering team on-call.Where is my data stored?​You may choose to sign up in either the US or EU region. See the cloud architecture reference for more details. If you’re on the Enterprise plan, we can deliver LangSmith to run on your kubernetes cluster in AWS, GCP, or Azure so that data never leaves your environment.Which security frameworks is\n",
      "\n",
      "details. If you’re on the Enterprise plan, we can deliver LangSmith to run on your kubernetes cluster in AWS, GCP, or Azure so that data never leaves your environment.Which security frameworks is LangSmith compliant with?​We are SOC 2 Type II, GDPR, and HIPAA compliant.You can request more information about our security policies and posture at trust.langchain.com. Please note we only enter into BAAs with customers on our Enterprise plan.Will you train on the data that I send LangSmith?​We will not train on your data, and you own all rights to your data. See LangSmith Terms of Service for more information.Was this page helpful?You can leave detailed feedback on GitHub.PreviousLangChain off-the-shelf evaluatorsNextSelf-hostingPlansPlan ComparisonQuestions and AnswersI’ve been using LangSmith since before pricing took effect for new users. When will pricing go into effect for my account?Which plan is right for me?What is a seat?What is a trace?What is an ingested event?I’ve hit my rate\n",
      "\n",
      "Architectural Guidance----✅Dedicated Customer Success Manager----✅SLA----✅ProcurementBillingMonthly, self-serveCredit CardMonthly, self-serveCredit CardAnnual InvoiceACHCustom Terms and Data Privacy Agreement----✅Infosec Review----✅WorkspacesSingle, default Workspace under Personal OrganizationUp to 3 Workspaces per OrganizationUp to 10 Workspaces per Organization (contact support@langchain.dev for more)Organization Roles (User and Admin)--✅✅1 Seats are billed monthly on the first of the month and in the future will be prorated if additional seats are purchased in the middle of the month. Seats removed mid-month are not credited.2 You can purchase LangSmith credits for your tracing usage. As long as you have a valid credit card in your account, we’ll service your traces and deduct from your credit balance. You’ll be able to set monthly ingest limits if you choose to control spend.3 Personal accounts without a credit card on file will be rate limited to 50,000 ingested events per hour\u001b[0m\u001b[32;1m\u001b[1;3mLangSmith is a tool available on Discord that offers different plans for users, including Plus and Enterprise plans. The Plus plan provides preferential email support, while the Enterprise plan offers white-glove support with a dedicated customer success manager and monthly check-ins. LangSmith is compliant with security frameworks such as SOC 2 Type II, GDPR, and HIPAA.\n",
      "\n",
      "Users can choose to store their data in either the US or EU region. For Enterprise plan users, LangSmith can be delivered to run on their Kubernetes cluster in AWS, GCP, or Azure to ensure data remains within their environment. LangSmith does not train on user data, and users retain all rights to their data.\n",
      "\n",
      "For pricing, LangSmith offers different billing options, including monthly self-serve credit card billing and annual invoicing with custom terms and data privacy agreements. Users can purchase LangSmith credits for tracing usage, and personal accounts without a credit card on file are rate-limited to 50,000 ingested events per hour.\n",
      "\n",
      "If you have any specific questions or need more information about LangSmith, feel free to ask!\u001b[0m\n",
      "\n",
      "\u001b[1m> Finished chain.\u001b[0m\n"
     ]
    },
    {
     "data": {
      "text/plain": [
       "{'input': 'Tell me about Langsmith',\n",
       " 'output': 'LangSmith is a tool available on Discord that offers different plans for users, including Plus and Enterprise plans. The Plus plan provides preferential email support, while the Enterprise plan offers white-glove support with a dedicated customer success manager and monthly check-ins. LangSmith is compliant with security frameworks such as SOC 2 Type II, GDPR, and HIPAA.\\n\\nUsers can choose to store their data in either the US or EU region. For Enterprise plan users, LangSmith can be delivered to run on their Kubernetes cluster in AWS, GCP, or Azure to ensure data remains within their environment. LangSmith does not train on user data, and users retain all rights to their data.\\n\\nFor pricing, LangSmith offers different billing options, including monthly self-serve credit card billing and annual invoicing with custom terms and data privacy agreements. Users can purchase LangSmith credits for tracing usage, and personal accounts without a credit card on file are rate-limited to 50,000 ingested events per hour.\\n\\nIf you have any specific questions or need more information about LangSmith, feel free to ask!'}"
      ]
     },
     "execution_count": 62,
     "metadata": {},
     "output_type": "execute_result"
    }
   ],
   "source": [
    "agent_executor.invoke({\"input\":\"Tell me about Langsmith\"})"
   ]
  },
  {
   "cell_type": "code",
   "execution_count": 63,
   "metadata": {},
   "outputs": [
    {
     "name": "stdout",
     "output_type": "stream",
     "text": [
      "\n",
      "\n",
      "\u001b[1m> Entering new AgentExecutor chain...\u001b[0m\n",
      "\u001b[32;1m\u001b[1;3m\n",
      "Invoking: `arxiv` with `{'query': '1605.08386'}`\n",
      "\n",
      "\n",
      "\u001b[0m\u001b[33;1m\u001b[1;3mPublished: 2016-05-26\n",
      "Title: Heat-bath random walks with Markov bases\n",
      "Authors: Caprice Stanley, Tobias Windisch\n",
      "Summary: Graphs on lattice points are studied whose edges come from a finite set of\n",
      "allo\u001b[0m\u001b[32;1m\u001b[1;3mThe paper with the identifier 1605.08386 is titled \"Heat-bath random walks with Markov bases\" by Caprice Stanley and Tobias Windisch. It discusses the study of graphs on lattice points where the edges come from a finite set of allocations.\u001b[0m\n",
      "\n",
      "\u001b[1m> Finished chain.\u001b[0m\n"
     ]
    },
    {
     "data": {
      "text/plain": [
       "{'input': \"What's the paper 1605.08386 about?\",\n",
       " 'output': 'The paper with the identifier 1605.08386 is titled \"Heat-bath random walks with Markov bases\" by Caprice Stanley and Tobias Windisch. It discusses the study of graphs on lattice points where the edges come from a finite set of allocations.'}"
      ]
     },
     "execution_count": 63,
     "metadata": {},
     "output_type": "execute_result"
    }
   ],
   "source": [
    "agent_executor.invoke({\"input\":\"What's the paper 1605.08386 about?\"})"
   ]
  },
  {
   "cell_type": "code",
   "execution_count": 64,
   "metadata": {},
   "outputs": [
    {
     "name": "stdout",
     "output_type": "stream",
     "text": [
      "\n",
      "\n",
      "\u001b[1m> Entering new AgentExecutor chain...\u001b[0m\n",
      "\u001b[32;1m\u001b[1;3m\n",
      "Invoking: `langsmith_search` with `{'query': 'LangSmith price details'}`\n",
      "\n",
      "\n",
      "\u001b[0m\u001b[38;5;200m\u001b[1;3mPricing | 🦜️🛠️ LangSmith\n",
      "\n",
      "details. If you’re on the Enterprise plan, we can deliver LangSmith to run on your kubernetes cluster in AWS, GCP, or Azure so that data never leaves your environment.Which security frameworks is LangSmith compliant with?​We are SOC 2 Type II, GDPR, and HIPAA compliant.You can request more information about our security policies and posture at trust.langchain.com. Please note we only enter into BAAs with customers on our Enterprise plan.Will you train on the data that I send LangSmith?​We will not train on your data, and you own all rights to your data. See LangSmith Terms of Service for more information.Was this page helpful?You can leave detailed feedback on GitHub.PreviousLangChain off-the-shelf evaluatorsNextSelf-hostingPlansPlan ComparisonQuestions and AnswersI’ve been using LangSmith since before pricing took effect for new users. When will pricing go into effect for my account?Which plan is right for me?What is a seat?What is a trace?What is an ingested event?I’ve hit my rate\n",
      "\n",
      "Skip to main contentGo to API DocsSearchRegionUSEUGo to AppQuick startTutorialsHow-to guidesConceptsReferencePricingSelf-hostingLangGraph CloudPricingOn this pagePricingPlans​StartupsDeveloperPlusEnterpriseDesigned for early stage startups building AI applicationsDesigned for hobbyists who want to start their adventure soloEverything in Developer, plus team features and higher rate limitsDesigned for teams with more security, deployment, and support needsContact us to learn moreFree for 1 user5,000 free traces per monthAdditional traces billed starting @ 0.05¢/trace$39/user10,000 free traces per monthAdditional traces billed starting @ 0.05¢/traceCustomWhat to expect:We want all early stage companies to build with LangSmith. LangSmith for Startups offers discounted prices and a generous free, monthly trace allotment, so you can have the right tooling in place as you grow your business.Key features:1 Developer seatDebugging tracesDataset collectionTesting and evaluationPrompt\n",
      "\n",
      "Architectural Guidance----✅Dedicated Customer Success Manager----✅SLA----✅ProcurementBillingMonthly, self-serveCredit CardMonthly, self-serveCredit CardAnnual InvoiceACHCustom Terms and Data Privacy Agreement----✅Infosec Review----✅WorkspacesSingle, default Workspace under Personal OrganizationUp to 3 Workspaces per OrganizationUp to 10 Workspaces per Organization (contact support@langchain.dev for more)Organization Roles (User and Admin)--✅✅1 Seats are billed monthly on the first of the month and in the future will be prorated if additional seats are purchased in the middle of the month. Seats removed mid-month are not credited.2 You can purchase LangSmith credits for your tracing usage. As long as you have a valid credit card in your account, we’ll service your traces and deduct from your credit balance. You’ll be able to set monthly ingest limits if you choose to control spend.3 Personal accounts without a credit card on file will be rate limited to 50,000 ingested events per hour\u001b[0m\u001b[32;1m\u001b[1;3mLangSmith offers different pricing plans based on the user's needs. Here are the details of the pricing plans:\n",
      "\n",
      "1. **Startups Plan**:\n",
      "   - Designed for early stage startups building AI applications.\n",
      "   - Free for 1 user with 5,000 free traces per month.\n",
      "   - Additional traces are billed starting at 0.05¢ per trace.\n",
      "\n",
      "2. **Developer Plan**:\n",
      "   - Designed for hobbyists who want to start their adventure solo.\n",
      "   - Includes everything in the Developer plan, plus team features and higher rate limits.\n",
      "   - Priced at $39 per user with 10,000 free traces per month.\n",
      "   - Additional traces are billed starting at 0.05¢ per trace.\n",
      "\n",
      "3. **Enterprise Plan**:\n",
      "   - Designed for teams with more security, deployment, and support needs.\n",
      "   - Custom pricing based on specific requirements.\n",
      "   - Offers features like debugging traces, dataset collection, testing and evaluation, architectural guidance, dedicated customer success manager, SLA, and more.\n",
      "\n",
      "**Key Features**:\n",
      "- 1 Developer seat\n",
      "- Debugging traces\n",
      "- Dataset collection\n",
      "- Testing and evaluation\n",
      "- Architectural Guidance\n",
      "- Dedicated Customer Success Manager\n",
      "- SLA\n",
      "\n",
      "**Billing**:\n",
      "- Monthly, self-serve with Credit Card for Startups and Developer plans.\n",
      "- Annual Invoice, ACH, Custom Terms, and Data Privacy Agreement for Enterprise plan.\n",
      "\n",
      "**Workspaces**:\n",
      "- Single, default Workspace under Personal Organization for Startups.\n",
      "- Up to 3 Workspaces per Organization for Developer.\n",
      "- Up to 10 Workspaces per Organization for Enterprise.\n",
      "\n",
      "Please note that the pricing and features may vary based on the plan chosen.\u001b[0m\n",
      "\n",
      "\u001b[1m> Finished chain.\u001b[0m\n"
     ]
    },
    {
     "data": {
      "text/plain": [
       "{'input': 'Tell me about Langsmith price details',\n",
       " 'output': \"LangSmith offers different pricing plans based on the user's needs. Here are the details of the pricing plans:\\n\\n1. **Startups Plan**:\\n   - Designed for early stage startups building AI applications.\\n   - Free for 1 user with 5,000 free traces per month.\\n   - Additional traces are billed starting at 0.05¢ per trace.\\n\\n2. **Developer Plan**:\\n   - Designed for hobbyists who want to start their adventure solo.\\n   - Includes everything in the Developer plan, plus team features and higher rate limits.\\n   - Priced at $39 per user with 10,000 free traces per month.\\n   - Additional traces are billed starting at 0.05¢ per trace.\\n\\n3. **Enterprise Plan**:\\n   - Designed for teams with more security, deployment, and support needs.\\n   - Custom pricing based on specific requirements.\\n   - Offers features like debugging traces, dataset collection, testing and evaluation, architectural guidance, dedicated customer success manager, SLA, and more.\\n\\n**Key Features**:\\n- 1 Developer seat\\n- Debugging traces\\n- Dataset collection\\n- Testing and evaluation\\n- Architectural Guidance\\n- Dedicated Customer Success Manager\\n- SLA\\n\\n**Billing**:\\n- Monthly, self-serve with Credit Card for Startups and Developer plans.\\n- Annual Invoice, ACH, Custom Terms, and Data Privacy Agreement for Enterprise plan.\\n\\n**Workspaces**:\\n- Single, default Workspace under Personal Organization for Startups.\\n- Up to 3 Workspaces per Organization for Developer.\\n- Up to 10 Workspaces per Organization for Enterprise.\\n\\nPlease note that the pricing and features may vary based on the plan chosen.\"}"
      ]
     },
     "execution_count": 64,
     "metadata": {},
     "output_type": "execute_result"
    }
   ],
   "source": [
    "agent_executor.invoke({\"input\":\"Tell me about Langsmith price details\"})"
   ]
  },
  {
   "cell_type": "code",
   "execution_count": null,
   "metadata": {},
   "outputs": [],
   "source": []
  }
 ],
 "metadata": {
  "kernelspec": {
   "display_name": "Python 3",
   "language": "python",
   "name": "python3"
  },
  "language_info": {
   "codemirror_mode": {
    "name": "ipython",
    "version": 3
   },
   "file_extension": ".py",
   "mimetype": "text/x-python",
   "name": "python",
   "nbconvert_exporter": "python",
   "pygments_lexer": "ipython3",
   "version": "3.10.14"
  }
 },
 "nbformat": 4,
 "nbformat_minor": 2
}
